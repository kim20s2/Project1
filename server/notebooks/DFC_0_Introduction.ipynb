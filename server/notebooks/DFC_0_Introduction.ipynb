{
 "cells": [
  {
   "attachments": {},
   "cell_type": "markdown",
   "metadata": {},
   "source": [
    "# Dataflow Compiler Tutorials Introduction"
   ]
  },
  {
   "attachments": {},
   "cell_type": "markdown",
   "metadata": {},
   "source": [
    "The tutorials cover the Hailo Dataflow Compiler basic use-cases:\n",
    "\n",
    "**Model Compilation:**\n",
    "\n",
    "It is recommended to start with the `Hailo Dataflow Compiler Overview / Model build process` section of the user guide.\n",
    "\n",
    "The Hailo compilation process consists of three steps:\n",
    "\n",
    "1. Converting a Tensorflow or ONNX neural-network graph into a Hailo-compatible representation.  \n",
    "2. Quantization of a full precision neural network model into an 8-bit model.  \n",
    "3. Compiling the network to binary files (HEF), for running on the Hailo device.\n",
    "      \n",
    "**Inference:**\n",
    "\n",
    "1. Blocking inference with the HW-compatible model.\n",
    "2. Streaming inference with the HW-compatible model.\n",
    "3. Inference inside a Tensorflow environment.\n",
    "\n",
    "These use-cases were chosen to show an end-to-end flow, beginning with a Tensorflow / ONNX model and ending with a hardware deployed model. \n",
    "\n",
    "Throughout this guide the Resnet-v1-18 neural network will be used to demonstrate the capabilities of the Dataflow Compiler. The neural network is defined using Tensorflow checkpoint."
   ]
  },
  {
   "attachments": {},
   "cell_type": "markdown",
   "metadata": {},
   "source": [
    "## Usage\n",
    "The HTML and PDF versions are for viewing-only.\n",
    "The best way to use the tutorials is to run them as Jupyter notebooks:\n",
    "\n",
    "1. The Dataflow Compiler should be installed, either as a standalone Python package, or as part of the Hailo SW Suite.\n",
    "2. Activate the Dataflow Compiler virtual environment using `source <virtualenv_path>`\n",
    "    1. When using the Suite docker, the virtualenv is activated automatically.\n",
    "3. The tutorial notebooks are located in: `VENV/lib/python.../site-packages/hailo_tutorials`.\n",
    "4. Running the command `hailo tutorial` will open a Jupyter server that allows viewing the tutorials locally by using the link given at the output of the command.\n",
    "5. Remote viewing from a machine different then the one used to run the Jupyter server is also possible by running `hailo tutorial --ip=0.0.0.0`\n",
    "\n"
   ]
  }
 ],
 "metadata": {
  "kernelspec": {
   "display_name": "Python 3 (ipykernel)",
   "language": "python",
   "name": "python3"
  },
  "language_info": {
   "codemirror_mode": {
    "name": "ipython",
    "version": 3
   },
   "file_extension": ".py",
   "mimetype": "text/x-python",
   "name": "python",
   "nbconvert_exporter": "python",
   "pygments_lexer": "ipython3",
   "version": "3.10.0"
  }
 },
 "nbformat": 4,
 "nbformat_minor": 4
}
