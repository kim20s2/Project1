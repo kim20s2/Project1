{
 "cells": [
  {
   "cell_type": "markdown",
   "metadata": {},
   "source": [
    "# Compilation Tutorial\n",
    "## Hailo Compilation Example from Hailo Archive Quantized Model to HEF\n",
    "This tutorial will describe how to convert the model into the HEF executable format\n",
    "\n",
    "**Requirements:**\n",
    "\n",
    "* Run the codes below in Jupyter notebook, see the Introduction tutorial for more details.\n",
    "* A quantized HAR file.\n",
    "\n",
    "Note:\n",
    "This section demonstrates the Python APIs for Hailo Compiler.\n",
    "You could also use the CLI: try `hailo compiler --help`.\n",
    "More details on Dataflow Compiler User Guide / Building Models / Profiler and other command line tools."
   ]
  },
  {
   "cell_type": "code",
   "execution_count": null,
   "metadata": {},
   "outputs": [],
   "source": [
    "from hailo_sdk_client import ClientRunner"
   ]
  },
  {
   "cell_type": "markdown",
   "metadata": {},
   "source": [
    "Choose the quantized model Hailo Archive file to use throughout the example:"
   ]
  },
  {
   "cell_type": "code",
   "execution_count": null,
   "metadata": {},
   "outputs": [],
   "source": [
    "model_name = \"resnet_v1_18\"\n",
    "quantized_model_har_path = f\"{model_name}_quantized_model.har\""
   ]
  },
  {
   "cell_type": "markdown",
   "metadata": {},
   "source": [
    "Load the network to the ClientRunner:"
   ]
  },
  {
   "cell_type": "code",
   "execution_count": null,
   "metadata": {},
   "outputs": [],
   "source": [
    "runner = ClientRunner(har=quantized_model_har_path)\n",
    "# By default it uses the hw_arch that is saved on the HAR. It is not recommended to change the hw_arch after Optimization."
   ]
  },
  {
   "cell_type": "markdown",
   "metadata": {},
   "source": [
    "Run compilation (This method can take a couple of minutes):\n",
    "\n",
    "Note: The `hailo compiler` CLI tool can also be used."
   ]
  },
  {
   "cell_type": "code",
   "execution_count": null,
   "metadata": {},
   "outputs": [],
   "source": [
    "hef = runner.compile()\n",
    "\n",
    "file_name = f\"{model_name}.hef\"\n",
    "with open(file_name, \"wb\") as f:\n",
    "    f.write(hef)"
   ]
  },
  {
   "cell_type": "markdown",
   "metadata": {},
   "source": [
    "## Profiler tool\n",
    "\n",
    "Run the profiler tool:\n",
    "\n",
    "This command will pop-open the HTML report in the browser."
   ]
  },
  {
   "cell_type": "code",
   "execution_count": null,
   "metadata": {},
   "outputs": [],
   "source": [
    "har_path = f\"{model_name}_compiled_model.har\"\n",
    "runner.save_har(har_path)\n",
    "!hailo profiler {har_path}"
   ]
  },
  {
   "cell_type": "markdown",
   "metadata": {},
   "source": [
    "Note:\n",
    "\n",
    "The HTML profiler report could be augmented with runtime statistics, that are saved after the .hef ran on the device using hailortcli.\n",
    "\n",
    "For more information look under the section: Dataflow Compiler User Guide / Building Models / Profiler and other command line tools / Running the Profiler."
   ]
  }
 ],
 "metadata": {
  "kernelspec": {
   "display_name": "Python 3 (ipykernel)",
   "language": "python",
   "name": "python3"
  },
  "language_info": {
   "codemirror_mode": {
    "name": "ipython",
    "version": 3
   },
   "file_extension": ".py",
   "mimetype": "text/x-python",
   "name": "python",
   "nbconvert_exporter": "python",
   "pygments_lexer": "ipython3",
   "version": "3.8.10"
  }
 },
 "nbformat": 4,
 "nbformat_minor": 2
}
